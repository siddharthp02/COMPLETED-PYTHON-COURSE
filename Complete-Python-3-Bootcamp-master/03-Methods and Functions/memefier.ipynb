{
 "cells": [
  {
   "cell_type": "code",
   "execution_count": 1,
   "metadata": {},
   "outputs": [],
   "source": [
    "def myfunc(string):\n",
    "    mystring=''\n",
    "    for i in string:\n",
    "        if string.index(i)%2==0:\n",
    "            mystring+=i.upper()\n",
    "        else:\n",
    "            mystring+=i.lower()\n",
    "    return mystring\n",
    "        #THIS IS WORNG BECAUSE THEN IN CAPITALIZES EVERY REPEATING LETTER AS INDEX OF LETTER GIVES ONLY LETTER:\n",
    "    "
   ]
  },
  {
   "cell_type": "code",
   "execution_count": 4,
   "metadata": {},
   "outputs": [],
   "source": [
    "def myfunc(string):\n",
    "    mystring=''\n",
    "    for i in range(len(string)):\n",
    "        if i%2==0:\n",
    "            mystring+=string[i].lower()\n",
    "        else:\n",
    "            mystring+=string[i].upper()\n",
    "    return mystring\n",
    "#THIS IS RIGHT"
   ]
  },
  {
   "cell_type": "code",
   "execution_count": 5,
   "metadata": {},
   "outputs": [
    {
     "name": "stdout",
     "output_type": "stream",
     "text": [
      "SENTENCE PLEASE SIR: yuvan youre soooo coooool\n"
     ]
    },
    {
     "data": {
      "text/plain": [
       "'yUvAn yOuRe sOoOo cOoOoOl'"
      ]
     },
     "execution_count": 5,
     "metadata": {},
     "output_type": "execute_result"
    }
   ],
   "source": [
    "string = input('SENTENCE PLEASE SIR: ')\n",
    "myfunc(string)"
   ]
  },
  {
   "cell_type": "code",
   "execution_count": null,
   "metadata": {},
   "outputs": [],
   "source": []
  }
 ],
 "metadata": {
  "kernelspec": {
   "display_name": "Python 3",
   "language": "python",
   "name": "python3"
  },
  "language_info": {
   "codemirror_mode": {
    "name": "ipython",
    "version": 3
   },
   "file_extension": ".py",
   "mimetype": "text/x-python",
   "name": "python",
   "nbconvert_exporter": "python",
   "pygments_lexer": "ipython3",
   "version": "3.7.6"
  }
 },
 "nbformat": 4,
 "nbformat_minor": 4
}
