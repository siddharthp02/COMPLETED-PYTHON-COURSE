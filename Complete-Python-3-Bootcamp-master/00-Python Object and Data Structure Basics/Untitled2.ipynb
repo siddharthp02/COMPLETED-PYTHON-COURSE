{
 "cells": [
  {
   "cell_type": "code",
   "execution_count": 129,
   "metadata": {},
   "outputs": [
    {
     "data": {
      "text/plain": [
       "19"
      ]
     },
     "execution_count": 129,
     "metadata": {},
     "output_type": "execute_result"
    }
   ],
   "source": [
    "my_file = open('/home/siddharthp/Desktop/notes/to_do_list.txt','w+')\n",
    "my_file.write('This is text being appended to test.txt')\n",
    "my_file.write('\\nAnd another line here.')\n",
    "my_file.write('\\nPLS KILL EVERYBODY')"
   ]
  },
  {
   "cell_type": "code",
   "execution_count": 123,
   "metadata": {},
   "outputs": [],
   "source": [
    "my_file.seek(0)\n",
    "list1 = my_file.readlines()"
   ]
  },
  {
   "cell_type": "code",
   "execution_count": 130,
   "metadata": {},
   "outputs": [],
   "source": [
    "my_file.close()"
   ]
  },
  {
   "cell_type": "code",
   "execution_count": 126,
   "metadata": {},
   "outputs": [],
   "source": [
    "def get_notes():\n",
    "    \n",
    "    my_file = open('/home/siddharthp/Desktop/notes/to_do_list.txt','a+')\n",
    "    my_file.seek(0)\n",
    "    list1 = my_file.readlines()\n",
    "    my_file.close()\n",
    "    return list1\n",
    "\n",
    "def display(notes_list):\n",
    "    for i in notes:\n",
    "\n",
    "        print( f'{notes.index(i)+1}. {i}' )   "
   ]
  },
  {
   "cell_type": "code",
   "execution_count": 127,
   "metadata": {},
   "outputs": [],
   "source": [
    "notes = get_notes()\n"
   ]
  },
  {
   "cell_type": "code",
   "execution_count": 128,
   "metadata": {},
   "outputs": [
    {
     "name": "stdout",
     "output_type": "stream",
     "text": [
      "1. This is text being appended to test.txt\n",
      "\n",
      "2. And another line here.\n",
      "\n",
      "3. PLS KILL EVERYBODY\n"
     ]
    }
   ],
   "source": [
    "display(notes)"
   ]
  },
  {
   "cell_type": "code",
   "execution_count": 117,
   "metadata": {},
   "outputs": [
    {
     "data": {
      "text/plain": [
       "['\\n',\n",
       " 'This is text being appended to test.txt\\n',\n",
       " 'And another line here.\\n',\n",
       " 'PLS KILL EVERYBODY']"
      ]
     },
     "execution_count": 117,
     "metadata": {},
     "output_type": "execute_result"
    }
   ],
   "source": [
    "notes"
   ]
  },
  {
   "cell_type": "code",
   "execution_count": 125,
   "metadata": {},
   "outputs": [
    {
     "data": {
      "text/plain": [
       "['This is text being appended to test.txt\\n',\n",
       " 'And another line here.\\n',\n",
       " 'PLS KILL EVERYBODY']"
      ]
     },
     "execution_count": 125,
     "metadata": {},
     "output_type": "execute_result"
    }
   ],
   "source": [
    "list1\n"
   ]
  },
  {
   "cell_type": "code",
   "execution_count": null,
   "metadata": {},
   "outputs": [],
   "source": []
  }
 ],
 "metadata": {
  "kernelspec": {
   "display_name": "Python 3",
   "language": "python",
   "name": "python3"
  },
  "language_info": {
   "codemirror_mode": {
    "name": "ipython",
    "version": 3
   },
   "file_extension": ".py",
   "mimetype": "text/x-python",
   "name": "python",
   "nbconvert_exporter": "python",
   "pygments_lexer": "ipython3",
   "version": "3.7.6"
  }
 },
 "nbformat": 4,
 "nbformat_minor": 4
}
