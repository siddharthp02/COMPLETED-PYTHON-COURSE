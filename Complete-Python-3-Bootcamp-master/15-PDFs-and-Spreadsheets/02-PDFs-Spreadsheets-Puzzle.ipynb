{
 "cells": [
  {
   "cell_type": "markdown",
   "metadata": {},
   "source": [
    "___\n",
    "\n",
    "<a href='https://www.udemy.com/user/joseportilla/'><img src='../Pierian_Data_Logo.png'/></a>\n",
    "___\n",
    "<center><em>Content Copyright by Pierian Data</em></center>"
   ]
  },
  {
   "cell_type": "markdown",
   "metadata": {},
   "source": [
    "# PDFs and Spreadsheets Puzzle Exercise\n",
    "\n",
    "Let's test your skills, the files needed for this puzzle exercise\n",
    "\n",
    "You will need to work with two files for this exercise and solve the following tasks:\n",
    "\n",
    "* Task One: Use Python to extract the Google Drive link from the .csv file. (Hint: Its along the diagonal from top left to bottom right).\n",
    "* Task Two: Download the PDF from the Google Drive link (we already downloaded it for you just in case you can't download from Google Drive) and find the phone number that is in the document. Note: There are different ways of formatting a phone number!"
   ]
  },
  {
   "cell_type": "markdown",
   "metadata": {},
   "source": [
    "## Task One: Grab the Google Drive Link from .csv File"
   ]
  },
  {
   "cell_type": "code",
   "execution_count": 1,
   "metadata": {},
   "outputs": [],
   "source": [
    "import csv"
   ]
  },
  {
   "cell_type": "code",
   "execution_count": 8,
   "metadata": {},
   "outputs": [],
   "source": [
    "data = open('Exercise_Files/find_the_link.csv',encoding = 'utf-8')\n",
    "csv_data = csv.reader(data)"
   ]
  },
  {
   "cell_type": "code",
   "execution_count": 9,
   "metadata": {},
   "outputs": [],
   "source": [
    "data_lines = list(csv_data)"
   ]
  },
  {
   "cell_type": "code",
   "execution_count": 17,
   "metadata": {},
   "outputs": [
    {
     "ename": "IndexError",
     "evalue": "list index out of range",
     "output_type": "error",
     "traceback": [
      "\u001b[0;31m---------------------------------------------------------------------------\u001b[0m",
      "\u001b[0;31mIndexError\u001b[0m                                Traceback (most recent call last)",
      "\u001b[0;32m<ipython-input-17-f2bc88cb2f7c>\u001b[0m in \u001b[0;36m<module>\u001b[0;34m\u001b[0m\n\u001b[0;32m----> 1\u001b[0;31m \u001b[0mlen\u001b[0m\u001b[0;34m(\u001b[0m\u001b[0mdata_lines\u001b[0m\u001b[0;34m[\u001b[0m\u001b[0;36m66\u001b[0m\u001b[0;34m]\u001b[0m\u001b[0;34m)\u001b[0m\u001b[0;34m\u001b[0m\u001b[0;34m\u001b[0m\u001b[0m\n\u001b[0m",
      "\u001b[0;31mIndexError\u001b[0m: list index out of range"
     ]
    }
   ],
   "source": [
    "len(data_lines[66])"
   ]
  },
  {
   "cell_type": "code",
   "execution_count": 20,
   "metadata": {
    "scrolled": false
   },
   "outputs": [
    {
     "name": "stdout",
     "output_type": "stream",
     "text": [
      "h\n",
      "t\n",
      "t\n",
      "p\n",
      "s\n",
      ":\n",
      "/\n",
      "/\n",
      "d\n",
      "r\n",
      "i\n",
      "v\n",
      "e\n",
      ".\n",
      "g\n",
      "o\n",
      "o\n",
      "g\n",
      "l\n",
      "e\n",
      ".\n",
      "c\n",
      "o\n",
      "m\n",
      "/\n",
      "o\n",
      "p\n",
      "e\n",
      "n\n",
      "?\n",
      "i\n",
      "d\n",
      "=\n",
      "1\n",
      "G\n",
      "6\n",
      "S\n",
      "E\n",
      "g\n",
      "g\n",
      "0\n",
      "1\n",
      "8\n",
      "U\n",
      "B\n",
      "4\n",
      "_\n",
      "4\n",
      "x\n",
      "s\n",
      "A\n",
      "J\n",
      "J\n",
      "5\n",
      "T\n",
      "d\n",
      "z\n",
      "r\n",
      "h\n",
      "m\n",
      "X\n",
      "i\n",
      "p\n",
      "r\n",
      "4\n",
      "Q\n"
     ]
    }
   ],
   "source": [
    "n = 0\n",
    "for line in data_lines:\n",
    "    print(f'{line[n]}')\n",
    "    n +=1\n",
    "    "
   ]
  },
  {
   "cell_type": "code",
   "execution_count": 14,
   "metadata": {},
   "outputs": [
    {
     "data": {
      "text/plain": [
       "'https://drive.google.com/open?id=1G6SEgg018UB4_4xsAJJ5TdzrhmXipr4Q'"
      ]
     },
     "execution_count": 14,
     "metadata": {},
     "output_type": "execute_result"
    }
   ],
   "source": [
    "# THe correct result is shown below, if you can't download from Google Drive, \n",
    "# we added the PDF file to the Exercise_Files folder already"
   ]
  },
  {
   "cell_type": "markdown",
   "metadata": {},
   "source": [
    "## Task Two: Download the PDF from the Google Drive link and find the phone number that is in the document. "
   ]
  },
  {
   "cell_type": "code",
   "execution_count": 1,
   "metadata": {},
   "outputs": [],
   "source": [
    "# You should get this phone number\n",
    "# 505 503 4455\n",
    "import PyPDF2"
   ]
  },
  {
   "cell_type": "code",
   "execution_count": 2,
   "metadata": {},
   "outputs": [],
   "source": [
    "f = open('/home/siddharthp/Downloads/Find_the_Phone_Number.pdf',mode='rb')"
   ]
  },
  {
   "cell_type": "code",
   "execution_count": 3,
   "metadata": {},
   "outputs": [],
   "source": [
    "pdf_reader = PyPDF2.PdfFileReader(f)"
   ]
  },
  {
   "cell_type": "code",
   "execution_count": 4,
   "metadata": {},
   "outputs": [
    {
     "data": {
      "text/plain": [
       "17"
      ]
     },
     "execution_count": 4,
     "metadata": {},
     "output_type": "execute_result"
    }
   ],
   "source": [
    "pdf_reader.numPages"
   ]
  },
  {
   "cell_type": "code",
   "execution_count": 5,
   "metadata": {},
   "outputs": [],
   "source": [
    "page_text = []\n",
    "for n in range(17):\n",
    "    page = pdf_reader.getPage(n)\n",
    "    page_text.append(page.extractText())"
   ]
  },
  {
   "cell_type": "code",
   "execution_count": 6,
   "metadata": {},
   "outputs": [],
   "source": [
    "f.close()"
   ]
  },
  {
   "cell_type": "code",
   "execution_count": 9,
   "metadata": {},
   "outputs": [
    {
     "data": {
      "text/plain": [
       "\"Business Deliverables\\n \\n \\n \\nStaff engagement touch base yet can I just chime in on that one draw a line in the sand \\nthis proposal is a win\\n-\\nwin situation which will cause a stellar paradigm shift, and \\nproduce a multi\\n-\\nfold increase in deliverables but \\nfuture\\n-\\nproof. I dont care if you got some \\ncopy, why you dont use officeipsumcom or something like that ? low\\n-\\nhanging fruit beef \\nup, and optimize for search or we need to leverage our synergies. We need to make the \\nnew version clean and sexy bells and whist\\nles, so meeting assassin, and execute . \\nBaseline the procedure and samepage your department push back yet strategic high\\n-\\nlevel 30,000 ft view powerPointless, but deliverables nor circle back. Paddle on both \\nsides conversational content win\\n-\\nwin\\n-\\nwin nor pig \\nin a python overcome key issues to \\nmeet key milestones. Personal development crisp ppt deep dive. Can we parallel path \\nblue sky and this proposal is a win\\n-\\nwin situation which will cause a stellar paradigm \\nshift, and produce a multi\\n-\\nfold increase in deliver\\nables. Where the metal hits the meat \\nhorsehead offer. Onward and upward, productize the deliverables and focus on the \\n\\nknowledge process outsourcing. Slow\\n-\\nwalk our commitmen\\nt synergize productive \\nmindfulness so high turnaround rate we need to harvest synergy effects. Who's the goto \\non this job with the way forward tbrand terrorists. Your work on this project has been \\nreally impactful. Pushback quantity shoot me an email so si\\nngle wringable neck hit the \\n\\n\\nPerformance review let's not solutionize this right now parkin\\ng lot it so win\\n-\\nwin\\n-\\nwin and \\nfast track gain traction. At the end of the day player\\n-\\ncoach nor we need to leverage our \\nsynergies. Can we take this offline vec we've bootstrapped the model nor feature creep.\\n \\n \\n \\nChurning anomalies. Face time. Are we in agreeanc\\ne 60% to 30% is a lot of persent no \\nscraps hit the floor, nor critical mass. Can you run this by clearance? hot johnny coming \\nthrough . This proposal is a win\\n-\\nwin situation which will cause a stellar paradigm shift, \\nand produce a multi\\n-\\nfold increase in del\\niverables we need to aspirationalise our \\nofferings so this vendor is incompetent , nor organic growth. Dog and pony show. Turn \\nthe ship. If you want to motivate these clowns, try less carrot and more stick imagineer, \\nbut product market fit and we need to c\\nrystallize a plan pro\\n-\\nsumer software for strategic \\nfit programmatically.\\n \\n \\n \\n\""
      ]
     },
     "execution_count": 9,
     "metadata": {},
     "output_type": "execute_result"
    }
   ],
   "source": [
    "page_text[0]"
   ]
  },
  {
   "cell_type": "code",
   "execution_count": 11,
   "metadata": {},
   "outputs": [],
   "source": [
    "import re"
   ]
  },
  {
   "cell_type": "code",
   "execution_count": 49,
   "metadata": {},
   "outputs": [],
   "source": [
    "results = []\n",
    "for n in range(17):\n",
    "    \n",
    "    phone = re.search(r'\\d{3}.\\d{3}.\\d{4}',page_text[n])\n",
    "    results.append(phone)\n",
    "    \n",
    "              \n",
    "        "
   ]
  },
  {
   "cell_type": "code",
   "execution_count": 50,
   "metadata": {},
   "outputs": [
    {
     "data": {
      "text/plain": [
       "[None,\n",
       " None,\n",
       " None,\n",
       " None,\n",
       " None,\n",
       " None,\n",
       " None,\n",
       " None,\n",
       " None,\n",
       " None,\n",
       " None,\n",
       " None,\n",
       " None,\n",
       " <re.Match object; span=(1727, 1739), match='505.503.4455'>,\n",
       " None,\n",
       " None,\n",
       " None]"
      ]
     },
     "execution_count": 50,
     "metadata": {},
     "output_type": "execute_result"
    }
   ],
   "source": [
    "results"
   ]
  },
  {
   "cell_type": "code",
   "execution_count": 55,
   "metadata": {},
   "outputs": [
    {
     "data": {
      "text/plain": [
       "'505.503.4455'"
      ]
     },
     "execution_count": 55,
     "metadata": {},
     "output_type": "execute_result"
    }
   ],
   "source": [
    "results[13].group()"
   ]
  },
  {
   "cell_type": "code",
   "execution_count": null,
   "metadata": {},
   "outputs": [],
   "source": []
  }
 ],
 "metadata": {
  "anaconda-cloud": {},
  "kernelspec": {
   "display_name": "Python 3",
   "language": "python",
   "name": "python3"
  },
  "language_info": {
   "codemirror_mode": {
    "name": "ipython",
    "version": 3
   },
   "file_extension": ".py",
   "mimetype": "text/x-python",
   "name": "python",
   "nbconvert_exporter": "python",
   "pygments_lexer": "ipython3",
   "version": "3.7.6"
  }
 },
 "nbformat": 4,
 "nbformat_minor": 2
}
