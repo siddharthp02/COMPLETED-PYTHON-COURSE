{
 "cells": [
  {
   "cell_type": "code",
   "execution_count": 1,
   "metadata": {},
   "outputs": [],
   "source": [
    "import os\n",
    "import shutil"
   ]
  },
  {
   "cell_type": "code",
   "execution_count": 4,
   "metadata": {},
   "outputs": [
    {
     "data": {
      "text/plain": [
       "'/home/siddharthp/Desktop/python/Complete-Python-3-Bootcamp-master/12-Advanced Python Modules/08-Advanced-Python-Module-Exercise'"
      ]
     },
     "execution_count": 4,
     "metadata": {},
     "output_type": "execute_result"
    }
   ],
   "source": [
    "os.getcwd()"
   ]
  },
  {
   "cell_type": "code",
   "execution_count": 8,
   "metadata": {},
   "outputs": [
    {
     "ename": "FileNotFoundError",
     "evalue": "[Errno 2] No such file or directory: '/home/siddharthp/Desktop/python/Complete-Python-3-Bootcamp-master/12-Advanced Python Modules/08-Advanced-Python-Module-Exercise/extracted__content/extracted_content/Instruction.txt'",
     "output_type": "error",
     "traceback": [
      "\u001b[0;31m---------------------------------------------------------------------------\u001b[0m",
      "\u001b[0;31mFileNotFoundError\u001b[0m                         Traceback (most recent call last)",
      "\u001b[0;32m<ipython-input-8-3bcf0540539d>\u001b[0m in \u001b[0;36m<module>\u001b[0;34m\u001b[0m\n\u001b[0;32m----> 1\u001b[0;31m \u001b[0mos\u001b[0m\u001b[0;34m.\u001b[0m\u001b[0mlistdir\u001b[0m\u001b[0;34m(\u001b[0m\u001b[0;34m'/home/siddharthp/Desktop/python/Complete-Python-3-Bootcamp-master/12-Advanced Python Modules/08-Advanced-Python-Module-Exercise/extracted__content/extracted_content/Instruction.txt'\u001b[0m\u001b[0;34m)\u001b[0m\u001b[0;34m\u001b[0m\u001b[0;34m\u001b[0m\u001b[0m\n\u001b[0m",
      "\u001b[0;31mFileNotFoundError\u001b[0m: [Errno 2] No such file or directory: '/home/siddharthp/Desktop/python/Complete-Python-3-Bootcamp-master/12-Advanced Python Modules/08-Advanced-Python-Module-Exercise/extracted__content/extracted_content/Instruction.txt'"
     ]
    }
   ],
   "source": [
    "os.listdir('/home/siddharthp/Desktop/python/Complete-Python-3-Bootcamp-master/12-Advanced Python Modules/08-Advanced-Python-Module-Exercise/extracted__content/extracted_content/Instruction.txt')"
   ]
  },
  {
   "cell_type": "code",
   "execution_count": 14,
   "metadata": {},
   "outputs": [],
   "source": [
    "my_file = open('/home/siddharthp/Desktop/python/Complete-Python-3-Bootcamp-master/12-Advanced Python Modules/08-Advanced-Python-Module-Exercise/extracted__content/extracted_content/Four/EMTGPSXQEJX.txt')"
   ]
  },
  {
   "cell_type": "code",
   "execution_count": 15,
   "metadata": {},
   "outputs": [
    {
     "data": {
      "text/plain": [
       "'Justocras est placerat dui nascetur, varius senectus aptent suscipit esse aliquip erat labore sociosqu consequat.Facilisinam iusto fames, praesent dictumstvivamus consecteturpraesent felis ipsumcurabitur imperdietaliquam egestasmauris pharetra.Tristique luctus urnamorbi quisque nec massaphasellus.Fringilla dictumstvivamus laoreetphasellus delenit.Ipsuminteger ultrices nonumy per gubergren natoque pharetra, labore semvestibulum vivamus donec massapellentesque.Veniam et ligula commodo aliquam fusce laoreetphasellus sem, labore parturient magnainteger eleifend odio elitduis.Leopraesent quod phasellus fermentumfusce, magna conubia mollis eirmod.Magnapraesent ipsuminteger soluta accusam.Etiam placerat venenatis nunc sodales, massapellentesque feugait dolores.Erosin neque eos, netus molestie takimata cras nisised nullam.Lacus nostra morbi.Lectusnullam lobortisetiam nihil iaculis fermentumfusce imperdietaliquam, semvestibulum sempermorbi nisi duimauris duis.Ullamcorper urna viverra mipellentesque massapellentesque arcumorbi, feugiat zzril aliquammauris 719-266-2837 cursus tation quam id.Magna nullasuspendisse, sodalessed inceptos facilisis taciti lectus.Scelerisque euismod, egestasmauris exerci sed dolor praesent pharetra facilisis.Aenean facilisinam malesuada torquent aptent, tempor temporsuspendisse assum pellentesque dictum quammaecenas quod dolor euismod.Te amet ante risus quammaecenas magna viverra, laoreetphasellus cras elit elitnunc sanctus sempermorbi luptatum.Class sem bibendum enim, conguenulla facilisisproin amet erosin bibendumin odio.Et assum sedfusce, porta elementum eratproin aaenean urnapraesent eos taciti.Duo tation id risus illum molestie, justocras massaphasellus zzril muspellentesque autem wisi pharetra curae nobis.Convallis ea dictumstvivamus, tation metus mollis taciti egestas.Tristique quod blandit mi, parturient interdumdonec sedfusce malesuada cursus elitvivamus auctor.Semper facilisisat vehicula nobis tortorcurabitur convallis.Volutpat wisi vestibulum sodalessed imperdiet nonumy.Euismod erat orci, sedfusce conguenulla pulvinarvestibulum interdumdonec.Euismod scelerisque varius orci, luctus wisi antesuspendisse accumsannulla dolor faucibus pharetra.Fusce et ad tincidunt qui aptent mollis, metusdonec pellentesque maecenas ametduis mauris soluta.Rebum mattis porta tristique placerat nisised eleifend viverra, imperdiet nequeetiam tortor lacus lectus amet conguenulla.Quod elitduis consecteturpraesent auctormauris dolores.Temporsuspendisse eget urnamorbi enimaliquam enimsed felis soluta, potenti proin accumsannulla porta exerci bibendum mazim.Eratproin tempor nondonec erat auctormauris, vivamus potenti feliscras nullamauris consetetur.Fermentumfusce erosin aliquet lectusnullam habitant odio illum dictumst, urnapraesent consetetur amet varius facilisicurabitur sapien ligula.Tempus turpis class telluspraesent enimnulla nullasuspendisse, conubia bibendumin variuscras enimaliquam urnapraesent euismod te vestibulumnulla quis.Leopraesent metus turpis, ut minulla id consectetuer.Tortorvestibulum facilisisproin lectusnullam fermentumfusce.Consectetuer eu, vestibulumnulla pulvinar semper volutpatut conguenulla.Bibendumin nullam.Erat purusvestibulum elitnunc facilisisat, enimsed telluspraesent penatibus.Assum stet cum, metus dignissim magnainteger arcu antesuspendisse.Nostrud enimaliquam bibendumin neque, fermentum posuere kasd nulla laoreet facilisisproin fusce vero sapien.Liber feugiat nam magnainteger.Conguenulla accumsan cras semvestibulum cum, eleifend mattis interdum pretium volutpatut dapibusnam congue erosin dis facilisinam.Torquent velit metusdonec est tincidunt, imperdietaliquam dapibusnam orci possim condimentum eos libero.Nostra mipellentesque a, nisi no luctus nulla auctormauris.Vulputate integer dolores enimnulla, massa vestibulumnulla consectetuer exerci ipsumcurabitur nulla duimauris facilisicurabitur etiam.Penatibus nunc vulputate mi facilisicurabitur massa, sed mipellentesque ipsumcurabitur duis hac.Te massa rhoncus feugiat dictumst semper lorem, posuere pharetra proin rebum ultrices bibendum vero.Interdum sed soluta maecenas clita pretium inceptos, mazim quis laoreetphasellus luctus urnamorbi.Eros nonummy nunc zzril veniam mazim, sea cum amet facilisis luctus gravida a dolore.Ex invidunt arcumorbi velit mi.'"
      ]
     },
     "execution_count": 15,
     "metadata": {},
     "output_type": "execute_result"
    }
   ],
   "source": [
    "my_file.read()"
   ]
  },
  {
   "cell_type": "code",
   "execution_count": 16,
   "metadata": {},
   "outputs": [
    {
     "data": {
      "text/plain": [
       "''"
      ]
     },
     "execution_count": 16,
     "metadata": {},
     "output_type": "execute_result"
    }
   ],
   "source": [
    "my_file.read()"
   ]
  },
  {
   "cell_type": "code",
   "execution_count": 17,
   "metadata": {},
   "outputs": [
    {
     "data": {
      "text/plain": [
       "0"
      ]
     },
     "execution_count": 17,
     "metadata": {},
     "output_type": "execute_result"
    }
   ],
   "source": [
    "my_file.seek(0)"
   ]
  },
  {
   "cell_type": "code",
   "execution_count": 18,
   "metadata": {},
   "outputs": [],
   "source": [
    "import re"
   ]
  },
  {
   "cell_type": "code",
   "execution_count": 20,
   "metadata": {},
   "outputs": [],
   "source": [
    "match = re.search(r'\\d{3}-\\d{3}-\\d{4}',my_file.read())"
   ]
  },
  {
   "cell_type": "code",
   "execution_count": 21,
   "metadata": {},
   "outputs": [
    {
     "data": {
      "text/plain": [
       "'719-266-2837'"
      ]
     },
     "execution_count": 21,
     "metadata": {},
     "output_type": "execute_result"
    }
   ],
   "source": [
    "match.group()"
   ]
  },
  {
   "cell_type": "code",
   "execution_count": null,
   "metadata": {},
   "outputs": [],
   "source": []
  }
 ],
 "metadata": {
  "kernelspec": {
   "display_name": "Python 3",
   "language": "python",
   "name": "python3"
  },
  "language_info": {
   "codemirror_mode": {
    "name": "ipython",
    "version": 3
   },
   "file_extension": ".py",
   "mimetype": "text/x-python",
   "name": "python",
   "nbconvert_exporter": "python",
   "pygments_lexer": "ipython3",
   "version": "3.7.6"
  }
 },
 "nbformat": 4,
 "nbformat_minor": 4
}
